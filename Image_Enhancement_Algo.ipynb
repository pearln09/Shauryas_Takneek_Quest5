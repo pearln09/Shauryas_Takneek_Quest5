{
 "cells": [
  {
   "cell_type": "code",
   "execution_count": 99,
   "id": "06167c06-1adc-431d-8a86-e46d050cf311",
   "metadata": {},
   "outputs": [],
   "source": [
    "import numpy as np\n",
    "from astropy.io import fits\n",
    "\n",
    "def create_synthetic_fits(file_path):\n",
    "    # Create synthetic data for three bands\n",
    "    red_band = np.random.normal(loc=100, scale=20, size=(100, 100))\n",
    "    green_band = np.random.normal(loc=100, scale=20, size=(100, 100))\n",
    "    blue_band = np.random.normal(loc=100, scale=20, size=(100, 100))\n",
    "\n",
    "    # Create FITS HDUs\n",
    "    hdu_red = fits.PrimaryHDU(red_band)\n",
    "    hdu_green = fits.ImageHDU(green_band)\n",
    "    hdu_blue = fits.ImageHDU(blue_band)\n",
    "\n",
    "    # Create HDU list and write to file\n",
    "    hdul = fits.HDUList([hdu_red, hdu_green, hdu_blue])\n",
    "    hdul.writeto(file_path, overwrite=True)\n",
    "\n",
    "if __name__ == '__main__':\n",
    "    file_path = 'synthetic_data.fits'\n",
    "    create_synthetic_fits(file_path)"
   ]
  },
  {
   "cell_type": "code",
   "execution_count": 101,
   "id": "efe44911-6d6f-485b-ac52-da8fc38254b9",
   "metadata": {},
   "outputs": [
    {
     "name": "stdout",
     "output_type": "stream",
     "text": [
      "Final SNR: 23.056477991183353\n"
     ]
    }
   ],
   "source": [
    "import numpy as np\n",
    "from astropy.io import fits\n",
    "from PIL import Image, ImageEnhance\n",
    "import matplotlib.pyplot as plt\n",
    "from scipy.ndimage import gaussian_filter\n",
    "\n",
    "def calculate_snr(image_data):\n",
    "    signal = np.mean(image_data)\n",
    "    noise = np.std(image_data)\n",
    "    return signal / noise\n",
    "\n",
    "def enhance_image(image_data, enhancement_factor=1.5):\n",
    "    # Apply Gaussian filter to smooth the image and reduce noise\n",
    "    smoothed_image = gaussian_filter(image_data, sigma=2)\n",
    "    image = Image.fromarray(smoothed_image)\n",
    "    image = image.convert(\"L\")\n",
    "    enhancer = ImageEnhance.Contrast(image)\n",
    "    enhanced_image = enhancer.enhance(enhancement_factor)\n",
    "    return np.array(enhanced_image)\n",
    "\n",
    "def combine_bands(red_band, green_band, blue_band):\n",
    "    combined_image = np.stack((red_band, green_band, blue_band), axis=-1)\n",
    "    return combined_image\n",
    "\n",
    "def process_fits(file_path, enhancement_factor=1.5):\n",
    "    with fits.open(file_path) as hdul:\n",
    "        red_band = hdul[0].data\n",
    "        green_band = hdul[1].data\n",
    "        blue_band = hdul[2].data\n",
    "\n",
    "        red_band_enhanced = enhance_image(red_band, enhancement_factor)\n",
    "        green_band_enhanced = enhance_image(green_band, enhancement_factor)\n",
    "        blue_band_enhanced = enhance_image(blue_band, enhancement_factor)\n",
    "\n",
    "        combined_image = combine_bands(red_band_enhanced, green_band_enhanced, blue_band_enhanced)\n",
    "        \n",
    "        snr = calculate_snr(combined_image)\n",
    "        if snr < 15:\n",
    "            print(f\"SNR is below 15: {snr}. Adjusting enhancement factor.\")\n",
    "            combined_image = combine_bands(\n",
    "                enhance_image(red_band, enhancement_factor * 2),\n",
    "                enhance_image(green_band, enhancement_factor * 2),\n",
    "                enhance_image(blue_band, enhancement_factor * 2)\n",
    "            )\n",
    "        \n",
    "        snr = calculate_snr(combined_image)\n",
    "        print(f\"Final SNR: {snr}\")\n",
    "\n",
    "if __name__ == '__main__':\n",
    "    file_path = 'synthetic_data.fits'\n",
    "    process_fits(file_path)"
   ]
  },
  {
   "cell_type": "code",
   "execution_count": null,
   "id": "e9b391bb-1567-4444-ac7b-d1aa7885b572",
   "metadata": {},
   "outputs": [],
   "source": []
  },
  {
   "cell_type": "code",
   "execution_count": null,
   "id": "4d613f6d-07b5-467f-b5df-20dac7aa2c38",
   "metadata": {},
   "outputs": [],
   "source": []
  },
  {
   "cell_type": "code",
   "execution_count": null,
   "id": "35d73b4a-18f0-49b4-97c1-28cd92fe09b7",
   "metadata": {},
   "outputs": [],
   "source": []
  },
  {
   "cell_type": "code",
   "execution_count": null,
   "id": "45fe4dae-a883-4956-acce-e5c0733f3359",
   "metadata": {},
   "outputs": [],
   "source": []
  },
  {
   "cell_type": "code",
   "execution_count": null,
   "id": "41c9d54f-8ad4-4513-a628-9fa86e320b6a",
   "metadata": {
    "scrolled": true
   },
   "outputs": [],
   "source": []
  },
  {
   "cell_type": "code",
   "execution_count": null,
   "id": "e16c6a82-80a1-49ed-8afd-41b9e752b520",
   "metadata": {},
   "outputs": [],
   "source": []
  },
  {
   "cell_type": "code",
   "execution_count": null,
   "id": "5de34dda-47a6-437b-a4a9-15e3924a6dc2",
   "metadata": {},
   "outputs": [],
   "source": []
  },
  {
   "cell_type": "code",
   "execution_count": null,
   "id": "6253d87f-44a7-424d-afd6-00c93afc51ee",
   "metadata": {},
   "outputs": [],
   "source": []
  },
  {
   "cell_type": "code",
   "execution_count": null,
   "id": "c8b3eb67-c702-4a97-b952-2de28590de15",
   "metadata": {},
   "outputs": [],
   "source": []
  },
  {
   "cell_type": "code",
   "execution_count": null,
   "id": "d9ab306f-da21-4f39-a330-db2ceb72864a",
   "metadata": {},
   "outputs": [],
   "source": []
  },
  {
   "cell_type": "code",
   "execution_count": null,
   "id": "200b30af-98de-448e-b873-9beae918f043",
   "metadata": {},
   "outputs": [],
   "source": []
  },
  {
   "cell_type": "code",
   "execution_count": null,
   "id": "978d9486-211b-47b7-a4e1-5df73282fd59",
   "metadata": {},
   "outputs": [],
   "source": []
  },
  {
   "cell_type": "code",
   "execution_count": null,
   "id": "528b97d3-d437-4304-b817-fd4cc92f47ae",
   "metadata": {},
   "outputs": [],
   "source": []
  },
  {
   "cell_type": "code",
   "execution_count": null,
   "id": "9944dc10-9524-4a5a-b017-eac6181703cd",
   "metadata": {},
   "outputs": [],
   "source": []
  },
  {
   "cell_type": "code",
   "execution_count": null,
   "id": "60ccf628-c44d-468e-b8a5-a50c64c5f9b2",
   "metadata": {},
   "outputs": [],
   "source": []
  },
  {
   "cell_type": "code",
   "execution_count": null,
   "id": "1395e5c6-7f91-4a69-9566-4407be798640",
   "metadata": {},
   "outputs": [],
   "source": []
  },
  {
   "cell_type": "code",
   "execution_count": null,
   "id": "caefba69-c2b3-4db0-9699-747472d9b8c1",
   "metadata": {},
   "outputs": [],
   "source": []
  },
  {
   "cell_type": "code",
   "execution_count": null,
   "id": "dc94ef23-ac69-443e-b776-3ee0498cd36f",
   "metadata": {},
   "outputs": [],
   "source": []
  },
  {
   "cell_type": "code",
   "execution_count": null,
   "id": "ddbb2293-8183-40bb-b2dc-bd24bf3cfe75",
   "metadata": {},
   "outputs": [],
   "source": []
  },
  {
   "cell_type": "code",
   "execution_count": null,
   "id": "70605c96-6457-4c3d-b763-a42287820953",
   "metadata": {},
   "outputs": [],
   "source": []
  },
  {
   "cell_type": "code",
   "execution_count": null,
   "id": "bc4271af-3e2e-481a-9a25-085f9e1077d8",
   "metadata": {},
   "outputs": [],
   "source": []
  },
  {
   "cell_type": "code",
   "execution_count": null,
   "id": "7c82b2f4-bc22-41ab-a9f6-e03eccf11588",
   "metadata": {},
   "outputs": [],
   "source": []
  },
  {
   "cell_type": "code",
   "execution_count": null,
   "id": "2181d105-ed99-4acc-856b-1ef13ced3f47",
   "metadata": {},
   "outputs": [],
   "source": []
  },
  {
   "cell_type": "code",
   "execution_count": null,
   "id": "70469ddf-2cdb-4963-9b15-e4475ca9e88c",
   "metadata": {},
   "outputs": [],
   "source": []
  },
  {
   "cell_type": "code",
   "execution_count": null,
   "id": "804057b5-7a43-4a74-b966-bd3609fa90b5",
   "metadata": {},
   "outputs": [],
   "source": []
  },
  {
   "cell_type": "code",
   "execution_count": null,
   "id": "dba47903-fc0a-4291-89c4-b05c980b998c",
   "metadata": {},
   "outputs": [],
   "source": []
  },
  {
   "cell_type": "code",
   "execution_count": null,
   "id": "8aa6fcd8-f2d4-422f-8da6-f2b4d9a6358c",
   "metadata": {},
   "outputs": [],
   "source": []
  }
 ],
 "metadata": {
  "kernelspec": {
   "display_name": "Python 3 (ipykernel)",
   "language": "python",
   "name": "python3"
  },
  "language_info": {
   "codemirror_mode": {
    "name": "ipython",
    "version": 3
   },
   "file_extension": ".py",
   "mimetype": "text/x-python",
   "name": "python",
   "nbconvert_exporter": "python",
   "pygments_lexer": "ipython3",
   "version": "3.12.4"
  }
 },
 "nbformat": 4,
 "nbformat_minor": 5
}
